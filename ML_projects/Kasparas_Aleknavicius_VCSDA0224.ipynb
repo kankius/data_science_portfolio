{
 "cells": [
  {
   "cell_type": "markdown",
   "metadata": {},
   "source": [
    "# Indroduction\n",
    "\n",
    "The dataset is formed by a single 60 years old man, which is diagnosed with initial stage of kidney stones. Doctor recommended:\n",
    "\n",
    "- to keep pH level on average level (pH: 6.0 - 6.5) to stop forming of new stones\n",
    "\n",
    "Measurements of pH were made on everyday basis almost without errors or misses on track. With pH measurements all the food (and some other conditions like gym) were accurately logged. \n",
    "\n",
    "Dataset contains: \n",
    " - 212 rows (days)\n",
    " - 99 columns (pH measures, various liquids, various foods)"
   ]
  },
  {
   "cell_type": "code",
   "execution_count": 38,
   "metadata": {},
   "outputs": [],
   "source": [
    "import pandas as pd\n",
    "import numpy as np\n",
    "import matplotlib.pyplot as plt\n",
    "import seaborn as sns\n",
    "%matplotlib inline\n",
    "from sklearn.model_selection import train_test_split\n",
    "from sklearn.linear_model import LinearRegression\n",
    "from sklearn.linear_model import LogisticRegression\n",
    "from sklearn.metrics import classification_report, confusion_matrix\n",
    "import statsmodels.formula.api as smf\n",
    "import statsmodels.api as sm\n",
    "import random\n",
    "from scipy import stats\n",
    "from mlxtend.feature_selection import SequentialFeatureSelector as SFS"
   ]
  },
  {
   "cell_type": "markdown",
   "metadata": {},
   "source": [
    "# Data overview\n",
    "\n",
    "Observations\n",
    "\n",
    "- Variables differ from each other: liquids are continious and foods are categorial\n",
    "- There are many missing values in various food columns\n",
    "\n",
    "Decisions:\n",
    "\n",
    "- I will only use PH_avg as my target pH measure\n",
    "- I will transform food variables into binominal type"
   ]
  },
  {
   "cell_type": "code",
   "execution_count": 39,
   "metadata": {
    "scrolled": false
   },
   "outputs": [
    {
     "data": {
      "text/html": [
       "<div>\n",
       "<style scoped>\n",
       "    .dataframe tbody tr th:only-of-type {\n",
       "        vertical-align: middle;\n",
       "    }\n",
       "\n",
       "    .dataframe tbody tr th {\n",
       "        vertical-align: top;\n",
       "    }\n",
       "\n",
       "    .dataframe thead th {\n",
       "        text-align: right;\n",
       "    }\n",
       "</style>\n",
       "<table border=\"1\" class=\"dataframe\">\n",
       "  <thead>\n",
       "    <tr style=\"text-align: right;\">\n",
       "      <th></th>\n",
       "      <th>Date</th>\n",
       "      <th>PH_morning</th>\n",
       "      <th>PH_midday</th>\n",
       "      <th>PH_evening</th>\n",
       "      <th>PH_avg</th>\n",
       "      <th>Ailment</th>\n",
       "      <th>Gym</th>\n",
       "      <th>Liquid</th>\n",
       "      <th>Lemon water</th>\n",
       "      <th>Tea(black/green)</th>\n",
       "      <th>...</th>\n",
       "      <th>Cookie</th>\n",
       "      <th>Cake</th>\n",
       "      <th>Bun</th>\n",
       "      <th>Croissant</th>\n",
       "      <th>Chocolate</th>\n",
       "      <th>Candies</th>\n",
       "      <th>Halva</th>\n",
       "      <th>Marshmallow</th>\n",
       "      <th>Red caviar</th>\n",
       "      <th>Jelly</th>\n",
       "    </tr>\n",
       "  </thead>\n",
       "  <tbody>\n",
       "    <tr>\n",
       "      <th>0</th>\n",
       "      <td>06.09.2017</td>\n",
       "      <td>5.41</td>\n",
       "      <td>5.25</td>\n",
       "      <td>5.55</td>\n",
       "      <td>5.40</td>\n",
       "      <td>NaN</td>\n",
       "      <td>NaN</td>\n",
       "      <td>1300</td>\n",
       "      <td>250.0</td>\n",
       "      <td>NaN</td>\n",
       "      <td>...</td>\n",
       "      <td>NaN</td>\n",
       "      <td>NaN</td>\n",
       "      <td>NaN</td>\n",
       "      <td>NaN</td>\n",
       "      <td>NaN</td>\n",
       "      <td>NaN</td>\n",
       "      <td>NaN</td>\n",
       "      <td>NaN</td>\n",
       "      <td>NaN</td>\n",
       "      <td>NaN</td>\n",
       "    </tr>\n",
       "    <tr>\n",
       "      <th>1</th>\n",
       "      <td>07.09.2017</td>\n",
       "      <td>7.06</td>\n",
       "      <td>5.70</td>\n",
       "      <td>5.32</td>\n",
       "      <td>6.03</td>\n",
       "      <td>NaN</td>\n",
       "      <td>1.0</td>\n",
       "      <td>1300</td>\n",
       "      <td>250.0</td>\n",
       "      <td>NaN</td>\n",
       "      <td>...</td>\n",
       "      <td>NaN</td>\n",
       "      <td>NaN</td>\n",
       "      <td>NaN</td>\n",
       "      <td>NaN</td>\n",
       "      <td>NaN</td>\n",
       "      <td>NaN</td>\n",
       "      <td>NaN</td>\n",
       "      <td>NaN</td>\n",
       "      <td>NaN</td>\n",
       "      <td>NaN</td>\n",
       "    </tr>\n",
       "    <tr>\n",
       "      <th>2</th>\n",
       "      <td>08.09.2017</td>\n",
       "      <td>6.26</td>\n",
       "      <td>5.75</td>\n",
       "      <td>5.43</td>\n",
       "      <td>5.81</td>\n",
       "      <td>NaN</td>\n",
       "      <td>NaN</td>\n",
       "      <td>1350</td>\n",
       "      <td>250.0</td>\n",
       "      <td>NaN</td>\n",
       "      <td>...</td>\n",
       "      <td>NaN</td>\n",
       "      <td>NaN</td>\n",
       "      <td>NaN</td>\n",
       "      <td>NaN</td>\n",
       "      <td>NaN</td>\n",
       "      <td>NaN</td>\n",
       "      <td>NaN</td>\n",
       "      <td>NaN</td>\n",
       "      <td>NaN</td>\n",
       "      <td>NaN</td>\n",
       "    </tr>\n",
       "    <tr>\n",
       "      <th>3</th>\n",
       "      <td>09.09.2017</td>\n",
       "      <td>5.35</td>\n",
       "      <td>6.85</td>\n",
       "      <td>6.09</td>\n",
       "      <td>6.10</td>\n",
       "      <td>NaN</td>\n",
       "      <td>NaN</td>\n",
       "      <td>2350</td>\n",
       "      <td>250.0</td>\n",
       "      <td>NaN</td>\n",
       "      <td>...</td>\n",
       "      <td>NaN</td>\n",
       "      <td>NaN</td>\n",
       "      <td>NaN</td>\n",
       "      <td>NaN</td>\n",
       "      <td>NaN</td>\n",
       "      <td>NaN</td>\n",
       "      <td>NaN</td>\n",
       "      <td>NaN</td>\n",
       "      <td>NaN</td>\n",
       "      <td>NaN</td>\n",
       "    </tr>\n",
       "    <tr>\n",
       "      <th>4</th>\n",
       "      <td>10.09.2017</td>\n",
       "      <td>6.62</td>\n",
       "      <td>6.34</td>\n",
       "      <td>5.23</td>\n",
       "      <td>6.06</td>\n",
       "      <td>NaN</td>\n",
       "      <td>1.0</td>\n",
       "      <td>1600</td>\n",
       "      <td>250.0</td>\n",
       "      <td>NaN</td>\n",
       "      <td>...</td>\n",
       "      <td>NaN</td>\n",
       "      <td>NaN</td>\n",
       "      <td>150.0</td>\n",
       "      <td>NaN</td>\n",
       "      <td>NaN</td>\n",
       "      <td>NaN</td>\n",
       "      <td>NaN</td>\n",
       "      <td>NaN</td>\n",
       "      <td>NaN</td>\n",
       "      <td>NaN</td>\n",
       "    </tr>\n",
       "  </tbody>\n",
       "</table>\n",
       "<p>5 rows × 99 columns</p>\n",
       "</div>"
      ],
      "text/plain": [
       "         Date  PH_morning  PH_midday  PH_evening  PH_avg  Ailment  Gym  \\\n",
       "0  06.09.2017        5.41       5.25        5.55    5.40      NaN  NaN   \n",
       "1  07.09.2017        7.06       5.70        5.32    6.03      NaN  1.0   \n",
       "2  08.09.2017        6.26       5.75        5.43    5.81      NaN  NaN   \n",
       "3  09.09.2017        5.35       6.85        6.09    6.10      NaN  NaN   \n",
       "4  10.09.2017        6.62       6.34        5.23    6.06      NaN  1.0   \n",
       "\n",
       "   Liquid  Lemon water  Tea(black/green)  ...  Cookie  Cake    Bun  Croissant  \\\n",
       "0    1300        250.0               NaN  ...     NaN   NaN    NaN        NaN   \n",
       "1    1300        250.0               NaN  ...     NaN   NaN    NaN        NaN   \n",
       "2    1350        250.0               NaN  ...     NaN   NaN    NaN        NaN   \n",
       "3    2350        250.0               NaN  ...     NaN   NaN    NaN        NaN   \n",
       "4    1600        250.0               NaN  ...     NaN   NaN  150.0        NaN   \n",
       "\n",
       "   Chocolate  Candies  Halva  Marshmallow  Red caviar  Jelly  \n",
       "0        NaN      NaN    NaN          NaN         NaN    NaN  \n",
       "1        NaN      NaN    NaN          NaN         NaN    NaN  \n",
       "2        NaN      NaN    NaN          NaN         NaN    NaN  \n",
       "3        NaN      NaN    NaN          NaN         NaN    NaN  \n",
       "4        NaN      NaN    NaN          NaN         NaN    NaN  \n",
       "\n",
       "[5 rows x 99 columns]"
      ]
     },
     "execution_count": 39,
     "metadata": {},
     "output_type": "execute_result"
    }
   ],
   "source": [
    "df = pd.read_csv('ph_v1_days.csv')\n",
    "df.head()"
   ]
  },
  {
   "cell_type": "code",
   "execution_count": 40,
   "metadata": {
    "scrolled": true
   },
   "outputs": [
    {
     "name": "stdout",
     "output_type": "stream",
     "text": [
      "<class 'pandas.core.frame.DataFrame'>\n",
      "RangeIndex: 212 entries, 0 to 211\n",
      "Data columns (total 99 columns):\n",
      " #   Column                        Non-Null Count  Dtype  \n",
      "---  ------                        --------------  -----  \n",
      " 0   Date                          212 non-null    object \n",
      " 1   PH_morning                    212 non-null    float64\n",
      " 2   PH_midday                     212 non-null    float64\n",
      " 3   PH_evening                    210 non-null    float64\n",
      " 4   PH_avg                        212 non-null    float64\n",
      " 5   Ailment                       17 non-null     float64\n",
      " 6   Gym                           62 non-null     float64\n",
      " 7   Liquid                        212 non-null    int64  \n",
      " 8   Lemon water                   190 non-null    float64\n",
      " 9   Tea(black/green)              21 non-null     float64\n",
      " 10  Fruit tea                     205 non-null    float64\n",
      " 11  Water                         164 non-null    float64\n",
      " 12  Latte                         17 non-null     float64\n",
      " 13  Mineral water (Esentuki - 4)  171 non-null    float64\n",
      " 14  Mineral water (Borjomi)       7 non-null      float64\n",
      " 15  Mineral water (Prolom)        21 non-null     float64\n",
      " 16  Tequila                       6 non-null      float64\n",
      " 17  Red wine                      115 non-null    float64\n",
      " 18  White wine                    10 non-null     float64\n",
      " 19  Strong alcohol                4 non-null      float64\n",
      " 20  Beer                          3 non-null      float64\n",
      " 21  Morse                         25 non-null     float64\n",
      " 22  Milk                          2 non-null      float64\n",
      " 23  Orange juice                  24 non-null     float64\n",
      " 24  Oatmeal                       182 non-null    float64\n",
      " 25  Pizza with meat               22 non-null     float64\n",
      " 26  Cheese Pizza                  3 non-null      float64\n",
      " 27  Cheesecakes                   8 non-null      float64\n",
      " 28  Scrambled eggs                16 non-null     float64\n",
      " 29  Mayonnaise salad              17 non-null     float64\n",
      " 30  Bread                         157 non-null    float64\n",
      " 31  Meat                          73 non-null     float64\n",
      " 32  Sauce                         6 non-null      float64\n",
      " 33  Cutlet                        9 non-null      float64\n",
      " 34  Sausage                       16 non-null     float64\n",
      " 35  Fish                          6 non-null      float64\n",
      " 36  Sushi                         4 non-null      float64\n",
      " 37  Cod liver                     8 non-null      float64\n",
      " 38  Cheese                        57 non-null     float64\n",
      " 39  Curd                          39 non-null     float64\n",
      " 40  Sour cream                    13 non-null     float64\n",
      " 41  Buckwheat porridge            8 non-null      float64\n",
      " 42  Noodles with vegetables       3 non-null      float64\n",
      " 43  Noodles with shrimp           9 non-null      float64\n",
      " 44  Meat pilaf                    8 non-null      float64\n",
      " 45  Meatless pilaf                17 non-null     float64\n",
      " 46  Pea soup with meat            6 non-null      float64\n",
      " 47  Fried vegetables              4 non-null      float64\n",
      " 48  Pyagse with vegetables        3 non-null      float64\n",
      " 49  Dumplings with cabbage        1 non-null      float64\n",
      " 50  Potato dumplings              38 non-null     float64\n",
      " 51  Zucchini Fritters             14 non-null     float64\n",
      " 52  Stewed cabbage                5 non-null      float64\n",
      " 53  Solyanka with meat            2 non-null      float64\n",
      " 54  Eggplant with cheese          9 non-null      float64\n",
      " 55  Pasta                         12 non-null     float64\n",
      " 56  Fried potatoes                32 non-null     float64\n",
      " 57  Cooked Potatoes               9 non-null      float64\n",
      " 58  Braised Potatoes              22 non-null     float64\n",
      " 59  Mashed potatoes               17 non-null     float64\n",
      " 60  Apple Pie                     4 non-null      float64\n",
      " 61  Patty with cabbage            41 non-null     float64\n",
      " 62  Curd Pie                      22 non-null     float64\n",
      " 63  Cheese Pie                    4 non-null      float64\n",
      " 64  Egg Pie                       7 non-null      float64\n",
      " 65  Potato pie                    4 non-null      float64\n",
      " 66  Meat pie                      5 non-null      float64\n",
      " 67  Khachapuri                    10 non-null     float64\n",
      " 68  The nuts                      130 non-null    float64\n",
      " 69  Pumpkin seeds                 122 non-null    float64\n",
      " 70  Raisins                       19 non-null     float64\n",
      " 71  Dried apricots                124 non-null    float64\n",
      " 72  Vegetable salad               106 non-null    float64\n",
      " 73  Eggplant caviar               3 non-null      float64\n",
      " 74  The vinaigrette               10 non-null     float64\n",
      " 75  Apple                         141 non-null    float64\n",
      " 76  Peach                         15 non-null     float64\n",
      " 77  Melon                         5 non-null      float64\n",
      " 78  Plum                          21 non-null     float64\n",
      " 79  Tangerines                    8 non-null      float64\n",
      " 80  Pear                          14 non-null     float64\n",
      " 81  Watermelon                    3 non-null      float64\n",
      " 82  Banana                        58 non-null     float64\n",
      " 83  Grapes                        16 non-null     float64\n",
      " 84  Pineapple                     3 non-null      float64\n",
      " 85  Orange                        1 non-null      float64\n",
      " 86  Paste                         46 non-null     float64\n",
      " 87  Kumquat                       5 non-null      float64\n",
      " 88  Ice cream                     82 non-null     float64\n",
      " 89  Cookie                        125 non-null    float64\n",
      " 90  Cake                          51 non-null     float64\n",
      " 91  Bun                           14 non-null     float64\n",
      " 92  Croissant                     28 non-null     float64\n",
      " 93  Chocolate                     19 non-null     float64\n",
      " 94  Candies                       44 non-null     float64\n",
      " 95  Halva                         12 non-null     float64\n",
      " 96  Marshmallow                   3 non-null      float64\n",
      " 97  Red caviar                    13 non-null     float64\n",
      " 98  Jelly                         3 non-null      float64\n",
      "dtypes: float64(97), int64(1), object(1)\n",
      "memory usage: 164.1+ KB\n"
     ]
    }
   ],
   "source": [
    "df.info()"
   ]
  },
  {
   "cell_type": "markdown",
   "metadata": {},
   "source": [
    "# Data exploration and visualization"
   ]
  },
  {
   "cell_type": "code",
   "execution_count": 41,
   "metadata": {
    "scrolled": false
   },
   "outputs": [
    {
     "data": {
      "text/html": [
       "<style  type=\"text/css\" >\n",
       "</style><table id=\"T_6168f89e_8f70_11ea_b1e8_f8a2d6e6526e\" style='display:inline'><caption>Average pH by Gym</caption><thead>    <tr>        <th class=\"blank level0\" ></th>        <th class=\"col_heading level0 col0\" colspan=2>PH_morning</th>    </tr>    <tr>        <th class=\"blank level1\" ></th>        <th class=\"col_heading level1 col0\" >count</th>        <th class=\"col_heading level1 col1\" >mean</th>    </tr>    <tr>        <th class=\"index_name level0\" >Tea(black/green)</th>        <th class=\"blank\" ></th>        <th class=\"blank\" ></th>    </tr></thead><tbody>\n",
       "                <tr>\n",
       "                        <th id=\"T_6168f89e_8f70_11ea_b1e8_f8a2d6e6526elevel0_row0\" class=\"row_heading level0 row0\" >250.0</th>\n",
       "                        <td id=\"T_6168f89e_8f70_11ea_b1e8_f8a2d6e6526erow0_col0\" class=\"data row0 col0\" >8.000000</td>\n",
       "                        <td id=\"T_6168f89e_8f70_11ea_b1e8_f8a2d6e6526erow0_col1\" class=\"data row0 col1\" >5.850000</td>\n",
       "            </tr>\n",
       "            <tr>\n",
       "                        <th id=\"T_6168f89e_8f70_11ea_b1e8_f8a2d6e6526elevel0_row1\" class=\"row_heading level0 row1\" >300.0</th>\n",
       "                        <td id=\"T_6168f89e_8f70_11ea_b1e8_f8a2d6e6526erow1_col0\" class=\"data row1 col0\" >4.000000</td>\n",
       "                        <td id=\"T_6168f89e_8f70_11ea_b1e8_f8a2d6e6526erow1_col1\" class=\"data row1 col1\" >5.075000</td>\n",
       "            </tr>\n",
       "            <tr>\n",
       "                        <th id=\"T_6168f89e_8f70_11ea_b1e8_f8a2d6e6526elevel0_row2\" class=\"row_heading level0 row2\" >350.0</th>\n",
       "                        <td id=\"T_6168f89e_8f70_11ea_b1e8_f8a2d6e6526erow2_col0\" class=\"data row2 col0\" >1.000000</td>\n",
       "                        <td id=\"T_6168f89e_8f70_11ea_b1e8_f8a2d6e6526erow2_col1\" class=\"data row2 col1\" >5.840000</td>\n",
       "            </tr>\n",
       "            <tr>\n",
       "                        <th id=\"T_6168f89e_8f70_11ea_b1e8_f8a2d6e6526elevel0_row3\" class=\"row_heading level0 row3\" >400.0</th>\n",
       "                        <td id=\"T_6168f89e_8f70_11ea_b1e8_f8a2d6e6526erow3_col0\" class=\"data row3 col0\" >2.000000</td>\n",
       "                        <td id=\"T_6168f89e_8f70_11ea_b1e8_f8a2d6e6526erow3_col1\" class=\"data row3 col1\" >5.415000</td>\n",
       "            </tr>\n",
       "            <tr>\n",
       "                        <th id=\"T_6168f89e_8f70_11ea_b1e8_f8a2d6e6526elevel0_row4\" class=\"row_heading level0 row4\" >450.0</th>\n",
       "                        <td id=\"T_6168f89e_8f70_11ea_b1e8_f8a2d6e6526erow4_col0\" class=\"data row4 col0\" >2.000000</td>\n",
       "                        <td id=\"T_6168f89e_8f70_11ea_b1e8_f8a2d6e6526erow4_col1\" class=\"data row4 col1\" >5.535000</td>\n",
       "            </tr>\n",
       "            <tr>\n",
       "                        <th id=\"T_6168f89e_8f70_11ea_b1e8_f8a2d6e6526elevel0_row5\" class=\"row_heading level0 row5\" >500.0</th>\n",
       "                        <td id=\"T_6168f89e_8f70_11ea_b1e8_f8a2d6e6526erow5_col0\" class=\"data row5 col0\" >2.000000</td>\n",
       "                        <td id=\"T_6168f89e_8f70_11ea_b1e8_f8a2d6e6526erow5_col1\" class=\"data row5 col1\" >6.250000</td>\n",
       "            </tr>\n",
       "            <tr>\n",
       "                        <th id=\"T_6168f89e_8f70_11ea_b1e8_f8a2d6e6526elevel0_row6\" class=\"row_heading level0 row6\" >550.0</th>\n",
       "                        <td id=\"T_6168f89e_8f70_11ea_b1e8_f8a2d6e6526erow6_col0\" class=\"data row6 col0\" >1.000000</td>\n",
       "                        <td id=\"T_6168f89e_8f70_11ea_b1e8_f8a2d6e6526erow6_col1\" class=\"data row6 col1\" >5.670000</td>\n",
       "            </tr>\n",
       "            <tr>\n",
       "                        <th id=\"T_6168f89e_8f70_11ea_b1e8_f8a2d6e6526elevel0_row7\" class=\"row_heading level0 row7\" >600.0</th>\n",
       "                        <td id=\"T_6168f89e_8f70_11ea_b1e8_f8a2d6e6526erow7_col0\" class=\"data row7 col0\" >1.000000</td>\n",
       "                        <td id=\"T_6168f89e_8f70_11ea_b1e8_f8a2d6e6526erow7_col1\" class=\"data row7 col1\" >5.960000</td>\n",
       "            </tr>\n",
       "    </tbody></table>   <style  type=\"text/css\" >\n",
       "</style><table id=\"T_6169468a_8f70_11ea_89bb_f8a2d6e6526e\" style='display:inline'><caption>Average pH by Tea(black/green)</caption><thead>    <tr>        <th class=\"blank level0\" ></th>        <th class=\"col_heading level0 col0\" colspan=2>PH_morning</th>    </tr>    <tr>        <th class=\"blank level1\" ></th>        <th class=\"col_heading level1 col0\" >count</th>        <th class=\"col_heading level1 col1\" >mean</th>    </tr>    <tr>        <th class=\"index_name level0\" >Mineral water (Esentuki - 4)</th>        <th class=\"blank\" ></th>        <th class=\"blank\" ></th>    </tr></thead><tbody>\n",
       "                <tr>\n",
       "                        <th id=\"T_6169468a_8f70_11ea_89bb_f8a2d6e6526elevel0_row0\" class=\"row_heading level0 row0\" >130.0</th>\n",
       "                        <td id=\"T_6169468a_8f70_11ea_89bb_f8a2d6e6526erow0_col0\" class=\"data row0 col0\" >1.000000</td>\n",
       "                        <td id=\"T_6169468a_8f70_11ea_89bb_f8a2d6e6526erow0_col1\" class=\"data row0 col1\" >5.840000</td>\n",
       "            </tr>\n",
       "            <tr>\n",
       "                        <th id=\"T_6169468a_8f70_11ea_89bb_f8a2d6e6526elevel0_row1\" class=\"row_heading level0 row1\" >150.0</th>\n",
       "                        <td id=\"T_6169468a_8f70_11ea_89bb_f8a2d6e6526erow1_col0\" class=\"data row1 col0\" >5.000000</td>\n",
       "                        <td id=\"T_6169468a_8f70_11ea_89bb_f8a2d6e6526erow1_col1\" class=\"data row1 col1\" >5.848000</td>\n",
       "            </tr>\n",
       "            <tr>\n",
       "                        <th id=\"T_6169468a_8f70_11ea_89bb_f8a2d6e6526elevel0_row2\" class=\"row_heading level0 row2\" >200.0</th>\n",
       "                        <td id=\"T_6169468a_8f70_11ea_89bb_f8a2d6e6526erow2_col0\" class=\"data row2 col0\" >13.000000</td>\n",
       "                        <td id=\"T_6169468a_8f70_11ea_89bb_f8a2d6e6526erow2_col1\" class=\"data row2 col1\" >5.903077</td>\n",
       "            </tr>\n",
       "            <tr>\n",
       "                        <th id=\"T_6169468a_8f70_11ea_89bb_f8a2d6e6526elevel0_row3\" class=\"row_heading level0 row3\" >220.0</th>\n",
       "                        <td id=\"T_6169468a_8f70_11ea_89bb_f8a2d6e6526erow3_col0\" class=\"data row3 col0\" >1.000000</td>\n",
       "                        <td id=\"T_6169468a_8f70_11ea_89bb_f8a2d6e6526erow3_col1\" class=\"data row3 col1\" >5.330000</td>\n",
       "            </tr>\n",
       "            <tr>\n",
       "                        <th id=\"T_6169468a_8f70_11ea_89bb_f8a2d6e6526elevel0_row4\" class=\"row_heading level0 row4\" >230.0</th>\n",
       "                        <td id=\"T_6169468a_8f70_11ea_89bb_f8a2d6e6526erow4_col0\" class=\"data row4 col0\" >1.000000</td>\n",
       "                        <td id=\"T_6169468a_8f70_11ea_89bb_f8a2d6e6526erow4_col1\" class=\"data row4 col1\" >5.570000</td>\n",
       "            </tr>\n",
       "            <tr>\n",
       "                        <th id=\"T_6169468a_8f70_11ea_89bb_f8a2d6e6526elevel0_row5\" class=\"row_heading level0 row5\" >250.0</th>\n",
       "                        <td id=\"T_6169468a_8f70_11ea_89bb_f8a2d6e6526erow5_col0\" class=\"data row5 col0\" >68.000000</td>\n",
       "                        <td id=\"T_6169468a_8f70_11ea_89bb_f8a2d6e6526erow5_col1\" class=\"data row5 col1\" >6.109706</td>\n",
       "            </tr>\n",
       "            <tr>\n",
       "                        <th id=\"T_6169468a_8f70_11ea_89bb_f8a2d6e6526elevel0_row6\" class=\"row_heading level0 row6\" >260.0</th>\n",
       "                        <td id=\"T_6169468a_8f70_11ea_89bb_f8a2d6e6526erow6_col0\" class=\"data row6 col0\" >1.000000</td>\n",
       "                        <td id=\"T_6169468a_8f70_11ea_89bb_f8a2d6e6526erow6_col1\" class=\"data row6 col1\" >5.200000</td>\n",
       "            </tr>\n",
       "            <tr>\n",
       "                        <th id=\"T_6169468a_8f70_11ea_89bb_f8a2d6e6526elevel0_row7\" class=\"row_heading level0 row7\" >300.0</th>\n",
       "                        <td id=\"T_6169468a_8f70_11ea_89bb_f8a2d6e6526erow7_col0\" class=\"data row7 col0\" >24.000000</td>\n",
       "                        <td id=\"T_6169468a_8f70_11ea_89bb_f8a2d6e6526erow7_col1\" class=\"data row7 col1\" >5.924167</td>\n",
       "            </tr>\n",
       "            <tr>\n",
       "                        <th id=\"T_6169468a_8f70_11ea_89bb_f8a2d6e6526elevel0_row8\" class=\"row_heading level0 row8\" >360.0</th>\n",
       "                        <td id=\"T_6169468a_8f70_11ea_89bb_f8a2d6e6526erow8_col0\" class=\"data row8 col0\" >1.000000</td>\n",
       "                        <td id=\"T_6169468a_8f70_11ea_89bb_f8a2d6e6526erow8_col1\" class=\"data row8 col1\" >6.740000</td>\n",
       "            </tr>\n",
       "            <tr>\n",
       "                        <th id=\"T_6169468a_8f70_11ea_89bb_f8a2d6e6526elevel0_row9\" class=\"row_heading level0 row9\" >400.0</th>\n",
       "                        <td id=\"T_6169468a_8f70_11ea_89bb_f8a2d6e6526erow9_col0\" class=\"data row9 col0\" >1.000000</td>\n",
       "                        <td id=\"T_6169468a_8f70_11ea_89bb_f8a2d6e6526erow9_col1\" class=\"data row9 col1\" >6.630000</td>\n",
       "            </tr>\n",
       "            <tr>\n",
       "                        <th id=\"T_6169468a_8f70_11ea_89bb_f8a2d6e6526elevel0_row10\" class=\"row_heading level0 row10\" >450.0</th>\n",
       "                        <td id=\"T_6169468a_8f70_11ea_89bb_f8a2d6e6526erow10_col0\" class=\"data row10 col0\" >1.000000</td>\n",
       "                        <td id=\"T_6169468a_8f70_11ea_89bb_f8a2d6e6526erow10_col1\" class=\"data row10 col1\" >5.590000</td>\n",
       "            </tr>\n",
       "            <tr>\n",
       "                        <th id=\"T_6169468a_8f70_11ea_89bb_f8a2d6e6526elevel0_row11\" class=\"row_heading level0 row11\" >500.0</th>\n",
       "                        <td id=\"T_6169468a_8f70_11ea_89bb_f8a2d6e6526erow11_col0\" class=\"data row11 col0\" >51.000000</td>\n",
       "                        <td id=\"T_6169468a_8f70_11ea_89bb_f8a2d6e6526erow11_col1\" class=\"data row11 col1\" >6.480588</td>\n",
       "            </tr>\n",
       "            <tr>\n",
       "                        <th id=\"T_6169468a_8f70_11ea_89bb_f8a2d6e6526elevel0_row12\" class=\"row_heading level0 row12\" >650.0</th>\n",
       "                        <td id=\"T_6169468a_8f70_11ea_89bb_f8a2d6e6526erow12_col0\" class=\"data row12 col0\" >1.000000</td>\n",
       "                        <td id=\"T_6169468a_8f70_11ea_89bb_f8a2d6e6526erow12_col1\" class=\"data row12 col1\" >6.640000</td>\n",
       "            </tr>\n",
       "            <tr>\n",
       "                        <th id=\"T_6169468a_8f70_11ea_89bb_f8a2d6e6526elevel0_row13\" class=\"row_heading level0 row13\" >750.0</th>\n",
       "                        <td id=\"T_6169468a_8f70_11ea_89bb_f8a2d6e6526erow13_col0\" class=\"data row13 col0\" >2.000000</td>\n",
       "                        <td id=\"T_6169468a_8f70_11ea_89bb_f8a2d6e6526erow13_col1\" class=\"data row13 col1\" >6.255000</td>\n",
       "            </tr>\n",
       "    </tbody></table>   <style  type=\"text/css\" >\n",
       "</style><table id=\"T_6169946c_8f70_11ea_8035_f8a2d6e6526e\" style='display:inline'><caption>Average pH by Mineral water (Esentuki - 4)</caption><thead>    <tr>        <th class=\"blank level0\" ></th>        <th class=\"col_heading level0 col0\" colspan=2>PH_morning</th>    </tr>    <tr>        <th class=\"blank level1\" ></th>        <th class=\"col_heading level1 col0\" >count</th>        <th class=\"col_heading level1 col1\" >mean</th>    </tr>    <tr>        <th class=\"index_name level0\" >Mineral water (Prolom)</th>        <th class=\"blank\" ></th>        <th class=\"blank\" ></th>    </tr></thead><tbody>\n",
       "                <tr>\n",
       "                        <th id=\"T_6169946c_8f70_11ea_8035_f8a2d6e6526elevel0_row0\" class=\"row_heading level0 row0\" >250.0</th>\n",
       "                        <td id=\"T_6169946c_8f70_11ea_8035_f8a2d6e6526erow0_col0\" class=\"data row0 col0\" >5.000000</td>\n",
       "                        <td id=\"T_6169946c_8f70_11ea_8035_f8a2d6e6526erow0_col1\" class=\"data row0 col1\" >5.458000</td>\n",
       "            </tr>\n",
       "            <tr>\n",
       "                        <th id=\"T_6169946c_8f70_11ea_8035_f8a2d6e6526elevel0_row1\" class=\"row_heading level0 row1\" >500.0</th>\n",
       "                        <td id=\"T_6169946c_8f70_11ea_8035_f8a2d6e6526erow1_col0\" class=\"data row1 col0\" >1.000000</td>\n",
       "                        <td id=\"T_6169946c_8f70_11ea_8035_f8a2d6e6526erow1_col1\" class=\"data row1 col1\" >6.330000</td>\n",
       "            </tr>\n",
       "            <tr>\n",
       "                        <th id=\"T_6169946c_8f70_11ea_8035_f8a2d6e6526elevel0_row2\" class=\"row_heading level0 row2\" >750.0</th>\n",
       "                        <td id=\"T_6169946c_8f70_11ea_8035_f8a2d6e6526erow2_col0\" class=\"data row2 col0\" >8.000000</td>\n",
       "                        <td id=\"T_6169946c_8f70_11ea_8035_f8a2d6e6526erow2_col1\" class=\"data row2 col1\" >5.656250</td>\n",
       "            </tr>\n",
       "            <tr>\n",
       "                        <th id=\"T_6169946c_8f70_11ea_8035_f8a2d6e6526elevel0_row3\" class=\"row_heading level0 row3\" >1000.0</th>\n",
       "                        <td id=\"T_6169946c_8f70_11ea_8035_f8a2d6e6526erow3_col0\" class=\"data row3 col0\" >5.000000</td>\n",
       "                        <td id=\"T_6169946c_8f70_11ea_8035_f8a2d6e6526erow3_col1\" class=\"data row3 col1\" >5.518000</td>\n",
       "            </tr>\n",
       "            <tr>\n",
       "                        <th id=\"T_6169946c_8f70_11ea_8035_f8a2d6e6526elevel0_row4\" class=\"row_heading level0 row4\" >1250.0</th>\n",
       "                        <td id=\"T_6169946c_8f70_11ea_8035_f8a2d6e6526erow4_col0\" class=\"data row4 col0\" >2.000000</td>\n",
       "                        <td id=\"T_6169946c_8f70_11ea_8035_f8a2d6e6526erow4_col1\" class=\"data row4 col1\" >4.855000</td>\n",
       "            </tr>\n",
       "    </tbody></table>   "
      ],
      "text/plain": [
       "<IPython.core.display.HTML object>"
      ]
     },
     "metadata": {},
     "output_type": "display_data"
    }
   ],
   "source": [
    "from IPython.core.display import display, HTML\n",
    "\n",
    "def display_side_by_side(dfs:list, captions:list):\n",
    "    output = \"\"\n",
    "    combined = dict(zip(captions, dfs))\n",
    "    for caption, df in combined.items():\n",
    "        output += df.style.set_table_attributes(\"style='display:inline'\").set_caption(caption)._repr_html_()\n",
    "        output += \"\\xa0\\xa0\\xa0\"\n",
    "    display(HTML(output))\n",
    "    \n",
    "#display(df.groupby('Gym').describe().iloc[:,0:2])\n",
    "d_1 = df.groupby(r'Tea(black/green)').describe().iloc[:,0:2]\n",
    "d_2 = df.groupby(r'Mineral water (Esentuki - 4)').describe().iloc[:,0:2]\n",
    "d_3 = df.groupby(r'Mineral water (Prolom)').describe().iloc[:,0:2]\n",
    "#display(df.groupby('Morse').describe().iloc[:,0:2])\n",
    "#display(df.groupby('Orange juice').describe().iloc[:,0:2])\n",
    "#display(df.groupby('Pizza with meat').describe().iloc[:,0:2])\n",
    "#display(df.groupby('Bread').describe().iloc[:,0:2])\n",
    "#display(df.groupby('Meat').describe().iloc[:,0:2])\n",
    "#display(df.groupby('Cheese').describe().iloc[:,0:2])\n",
    "#display(df.groupby('Curd').describe().iloc[:,0:2])\n",
    "#display(df.groupby('Potato dumplings').describe().iloc[:,0:2])\n",
    "#display(df.groupby('Fried potatoes').describe().iloc[:,0:2])\n",
    "#display(df.groupby('Patty with cabbage').describe().iloc[:,0:2])\n",
    "#display(df.groupby('The nuts').describe().iloc[:,0:2])\n",
    "#display(df.groupby('Pumpkin seeds').describe().iloc[:,0:2])\n",
    "#display(df.groupby('Dried apricots').describe().iloc[:,0:2])\n",
    "#display(df.groupby('Vegetable salad').describe().iloc[:,0:2])\n",
    "#display(df.groupby('Apple').describe().iloc[:,0:2])\n",
    "#display(df.groupby('Banana').describe().iloc[:,0:2])\n",
    "#display(df.groupby('Paste').describe().iloc[:,0:2])\n",
    "#display(df.groupby('Ice cream').describe().iloc[:,0:2])\n",
    "#display(df.groupby('Cookie').describe().iloc[:,0:2])\n",
    "#display(df.groupby('Cake').describe().iloc[:,0:2])\n",
    "#display(df.groupby('Candies').describe().iloc[:,0:2])\n",
    "display_side_by_side([d_1, d_2, d_3], ['Average pH by Gym', r'Average pH by Tea(black/green)','Average pH by Mineral water (Esentuki - 4)' ])"
   ]
  },
  {
   "cell_type": "code",
   "execution_count": 42,
   "metadata": {
    "scrolled": true
   },
   "outputs": [
    {
     "data": {
      "text/plain": [
       "Text(0.5, 1.0, 'Tea(black/green) influence on average pH')"
      ]
     },
     "execution_count": 42,
     "metadata": {},
     "output_type": "execute_result"
    },
    {
     "data": {
      "image/png": "[encoded data removed]",
      "text/plain": [
       "<Figure size 432x288 with 1 Axes>"
      ]
     },
     "metadata": {
      "needs_background": "light"
     },
     "output_type": "display_data"
    }
   ],
   "source": [
    "tea_df = pd.DataFrame(df.groupby(r'Tea(black/green)')['PH_avg'].mean())\n",
    "tea_df.plot(kind = 'bar', y = 'PH_avg')\n",
    "plt.ylim([5.4,6.2])\n",
    "plt.title('Tea(black/green) influence on average pH')"
   ]
  },
  {
   "cell_type": "code",
   "execution_count": 43,
   "metadata": {
    "scrolled": true
   },
   "outputs": [
    {
     "data": {
      "text/plain": [
       "Text(0.5, 1.0, 'Mineral water (Prolom) influence on average pH')"
      ]
     },
     "execution_count": 43,
     "metadata": {},
     "output_type": "execute_result"
    },
    {
     "data": {
      "image/png": "[encoded data removed]",
      "text/plain": [
       "<Figure size 432x288 with 1 Axes>"
      ]
     },
     "metadata": {
      "needs_background": "light"
     },
     "output_type": "display_data"
    }
   ],
   "source": [
    "pro_df = pd.DataFrame(df.groupby(r'Mineral water (Prolom)')['PH_avg'].mean())\n",
    "pro_df.plot(kind = 'bar', y = 'PH_avg')\n",
    "plt.ylim([5.0,6.2])\n",
    "plt.title(r'Mineral water (Prolom) influence on average pH')"
   ]
  },
  {
   "cell_type": "code",
   "execution_count": 44,
   "metadata": {},
   "outputs": [
    {
     "data": {
      "text/plain": [
       "Text(0.5, 1.0, 'Mineral water (Esentuki - 4) influence on average pH')"
      ]
     },
     "execution_count": 44,
     "metadata": {},
     "output_type": "execute_result"
    },
    {
     "data": {
      "image/png": "[encoded data removed]",
      "text/plain": [
       "<Figure size 432x288 with 1 Axes>"
      ]
     },
     "metadata": {
      "needs_background": "light"
     },
     "output_type": "display_data"
    }
   ],
   "source": [
    "ese_df = pd.DataFrame(df.groupby(r'Mineral water (Esentuki - 4)')['PH_avg'].mean())\n",
    "ese_df.plot(kind = 'bar', y = 'PH_avg')\n",
    "plt.ylim([5.4,6.2])\n",
    "plt.title(r'Mineral water (Esentuki - 4) influence on average pH')"
   ]
  },
  {
   "cell_type": "markdown",
   "metadata": {},
   "source": [
    "# Exploration conclusions\n",
    "\n",
    "I tried to choose the independent variables with significant amount of datapoints and compare the pH averages between the days with and without those variables.\n",
    "\n",
    "I can not see any significant changes in the pH according to those variables. The strongest change was displayed by two types of mineral water and tea (black/green) \n",
    "\n",
    "I have visualized those differences between pH, but we have to keep in mind, that the amount of datapoints is different and that may be the reason of pH differences.\n",
    "\n",
    "### **This also confirms that urine pH result depends on many variables and I will try to use as many of them as possible in my Logistic regression**"
   ]
  },
  {
   "cell_type": "markdown",
   "metadata": {},
   "source": [
    "# Data transformation\n",
    "\n",
    "Since column 'Liquid' contains the sum of all liquids - I have two options to solve issue of multicollinearity: \n",
    "- either I remove the 'Liquid' column\n",
    "- or I remove all other columns from which 'Liquid was derived\n",
    "\n",
    "I choose to remove the Liquid column since my all dataset is binominal"
   ]
  },
  {
   "cell_type": "code",
   "execution_count": 45,
   "metadata": {
    "scrolled": false
   },
   "outputs": [
    {
     "data": {
      "text/html": [
       "<div>\n",
       "<style scoped>\n",
       "    .dataframe tbody tr th:only-of-type {\n",
       "        vertical-align: middle;\n",
       "    }\n",
       "\n",
       "    .dataframe tbody tr th {\n",
       "        vertical-align: top;\n",
       "    }\n",
       "\n",
       "    .dataframe thead th {\n",
       "        text-align: right;\n",
       "    }\n",
       "</style>\n",
       "<table border=\"1\" class=\"dataframe\">\n",
       "  <thead>\n",
       "    <tr style=\"text-align: right;\">\n",
       "      <th></th>\n",
       "      <th>PH_avg</th>\n",
       "      <th>Ailment</th>\n",
       "      <th>Gym</th>\n",
       "      <th>Lemon water</th>\n",
       "      <th>Tea(black/green)</th>\n",
       "      <th>Fruit tea</th>\n",
       "      <th>Water</th>\n",
       "      <th>Latte</th>\n",
       "      <th>Mineral water (Esentuki - 4)</th>\n",
       "      <th>Mineral water (Borjomi)</th>\n",
       "      <th>...</th>\n",
       "      <th>Cookie</th>\n",
       "      <th>Cake</th>\n",
       "      <th>Bun</th>\n",
       "      <th>Croissant</th>\n",
       "      <th>Chocolate</th>\n",
       "      <th>Candies</th>\n",
       "      <th>Halva</th>\n",
       "      <th>Marshmallow</th>\n",
       "      <th>Red caviar</th>\n",
       "      <th>Jelly</th>\n",
       "    </tr>\n",
       "  </thead>\n",
       "  <tbody>\n",
       "    <tr>\n",
       "      <th>0</th>\n",
       "      <td>5.40</td>\n",
       "      <td>0.0</td>\n",
       "      <td>0.0</td>\n",
       "      <td>1.0</td>\n",
       "      <td>0.0</td>\n",
       "      <td>1.0</td>\n",
       "      <td>1.0</td>\n",
       "      <td>0.0</td>\n",
       "      <td>0.0</td>\n",
       "      <td>0.0</td>\n",
       "      <td>...</td>\n",
       "      <td>0.0</td>\n",
       "      <td>0.0</td>\n",
       "      <td>0.0</td>\n",
       "      <td>0.0</td>\n",
       "      <td>0.0</td>\n",
       "      <td>0.0</td>\n",
       "      <td>0.0</td>\n",
       "      <td>0.0</td>\n",
       "      <td>0.0</td>\n",
       "      <td>0.0</td>\n",
       "    </tr>\n",
       "    <tr>\n",
       "      <th>1</th>\n",
       "      <td>6.03</td>\n",
       "      <td>0.0</td>\n",
       "      <td>1.0</td>\n",
       "      <td>1.0</td>\n",
       "      <td>0.0</td>\n",
       "      <td>1.0</td>\n",
       "      <td>1.0</td>\n",
       "      <td>0.0</td>\n",
       "      <td>0.0</td>\n",
       "      <td>0.0</td>\n",
       "      <td>...</td>\n",
       "      <td>0.0</td>\n",
       "      <td>0.0</td>\n",
       "      <td>0.0</td>\n",
       "      <td>0.0</td>\n",
       "      <td>0.0</td>\n",
       "      <td>0.0</td>\n",
       "      <td>0.0</td>\n",
       "      <td>0.0</td>\n",
       "      <td>0.0</td>\n",
       "      <td>0.0</td>\n",
       "    </tr>\n",
       "    <tr>\n",
       "      <th>2</th>\n",
       "      <td>5.81</td>\n",
       "      <td>0.0</td>\n",
       "      <td>0.0</td>\n",
       "      <td>1.0</td>\n",
       "      <td>0.0</td>\n",
       "      <td>1.0</td>\n",
       "      <td>0.0</td>\n",
       "      <td>0.0</td>\n",
       "      <td>0.0</td>\n",
       "      <td>0.0</td>\n",
       "      <td>...</td>\n",
       "      <td>0.0</td>\n",
       "      <td>0.0</td>\n",
       "      <td>0.0</td>\n",
       "      <td>0.0</td>\n",
       "      <td>0.0</td>\n",
       "      <td>0.0</td>\n",
       "      <td>0.0</td>\n",
       "      <td>0.0</td>\n",
       "      <td>0.0</td>\n",
       "      <td>0.0</td>\n",
       "    </tr>\n",
       "    <tr>\n",
       "      <th>3</th>\n",
       "      <td>6.10</td>\n",
       "      <td>0.0</td>\n",
       "      <td>0.0</td>\n",
       "      <td>1.0</td>\n",
       "      <td>0.0</td>\n",
       "      <td>1.0</td>\n",
       "      <td>1.0</td>\n",
       "      <td>0.0</td>\n",
       "      <td>0.0</td>\n",
       "      <td>1.0</td>\n",
       "      <td>...</td>\n",
       "      <td>0.0</td>\n",
       "      <td>0.0</td>\n",
       "      <td>0.0</td>\n",
       "      <td>0.0</td>\n",
       "      <td>0.0</td>\n",
       "      <td>0.0</td>\n",
       "      <td>0.0</td>\n",
       "      <td>0.0</td>\n",
       "      <td>0.0</td>\n",
       "      <td>0.0</td>\n",
       "    </tr>\n",
       "    <tr>\n",
       "      <th>4</th>\n",
       "      <td>6.06</td>\n",
       "      <td>0.0</td>\n",
       "      <td>1.0</td>\n",
       "      <td>1.0</td>\n",
       "      <td>0.0</td>\n",
       "      <td>1.0</td>\n",
       "      <td>1.0</td>\n",
       "      <td>0.0</td>\n",
       "      <td>0.0</td>\n",
       "      <td>1.0</td>\n",
       "      <td>...</td>\n",
       "      <td>0.0</td>\n",
       "      <td>0.0</td>\n",
       "      <td>1.0</td>\n",
       "      <td>0.0</td>\n",
       "      <td>0.0</td>\n",
       "      <td>0.0</td>\n",
       "      <td>0.0</td>\n",
       "      <td>0.0</td>\n",
       "      <td>0.0</td>\n",
       "      <td>0.0</td>\n",
       "    </tr>\n",
       "  </tbody>\n",
       "</table>\n",
       "<p>5 rows × 94 columns</p>\n",
       "</div>"
      ],
      "text/plain": [
       "   PH_avg  Ailment  Gym  Lemon water  Tea(black/green)  Fruit tea  Water  \\\n",
       "0    5.40      0.0  0.0          1.0               0.0        1.0    1.0   \n",
       "1    6.03      0.0  1.0          1.0               0.0        1.0    1.0   \n",
       "2    5.81      0.0  0.0          1.0               0.0        1.0    0.0   \n",
       "3    6.10      0.0  0.0          1.0               0.0        1.0    1.0   \n",
       "4    6.06      0.0  1.0          1.0               0.0        1.0    1.0   \n",
       "\n",
       "   Latte  Mineral water (Esentuki - 4)  Mineral water (Borjomi)  ...  Cookie  \\\n",
       "0    0.0                           0.0                      0.0  ...     0.0   \n",
       "1    0.0                           0.0                      0.0  ...     0.0   \n",
       "2    0.0                           0.0                      0.0  ...     0.0   \n",
       "3    0.0                           0.0                      1.0  ...     0.0   \n",
       "4    0.0                           0.0                      1.0  ...     0.0   \n",
       "\n",
       "   Cake  Bun  Croissant  Chocolate  Candies  Halva  Marshmallow  Red caviar  \\\n",
       "0   0.0  0.0        0.0        0.0      0.0    0.0          0.0         0.0   \n",
       "1   0.0  0.0        0.0        0.0      0.0    0.0          0.0         0.0   \n",
       "2   0.0  0.0        0.0        0.0      0.0    0.0          0.0         0.0   \n",
       "3   0.0  0.0        0.0        0.0      0.0    0.0          0.0         0.0   \n",
       "4   0.0  1.0        0.0        0.0      0.0    0.0          0.0         0.0   \n",
       "\n",
       "   Jelly  \n",
       "0    0.0  \n",
       "1    0.0  \n",
       "2    0.0  \n",
       "3    0.0  \n",
       "4    0.0  \n",
       "\n",
       "[5 rows x 94 columns]"
      ]
     },
     "execution_count": 45,
     "metadata": {},
     "output_type": "execute_result"
    }
   ],
   "source": [
    "df.drop(['Liquid', 'Date', 'PH_midday', 'PH_morning', 'PH_evening'], axis = 1, inplace = True)\n",
    "df.iloc[:,1:] = df.iloc[:,1:].notnull().astype('int')\n",
    "df.head()"
   ]
  },
  {
   "cell_type": "markdown",
   "metadata": {},
   "source": [
    "# Focus variable"
   ]
  },
  {
   "cell_type": "markdown",
   "metadata": {},
   "source": [
    "It was mentioned before, that doctor recommended to keep urine pH at 6.0 - 6.5\n",
    "\n",
    "Such pH covers around 35 % of the whole dataset"
   ]
  },
  {
   "cell_type": "code",
   "execution_count": 46,
   "metadata": {},
   "outputs": [],
   "source": [
    "def outcome(x):\n",
    "    if 6.0 <= x <= 6.5:\n",
    "        return 1\n",
    "    else:\n",
    "        return 0\n",
    "df['outcome'] = df['PH_avg'].apply(outcome)"
   ]
  },
  {
   "cell_type": "code",
   "execution_count": 47,
   "metadata": {
    "scrolled": true
   },
   "outputs": [
    {
     "data": {
      "image/png": "[encoded data removed]",
      "text/plain": [
       "<Figure size 432x288 with 1 Axes>"
      ]
     },
     "metadata": {
      "needs_background": "light"
     },
     "output_type": "display_data"
    },
    {
     "name": "stdout",
     "output_type": "stream",
     "text": [
      "pH 6.0 - 6.5:  74 ( 34.91 %)\n",
      "Other pH:  138 ( 65.09 %)\n"
     ]
    }
   ],
   "source": [
    "sns.countplot(x = 'outcome',\n",
    "              data = df,\n",
    "              order = df['outcome'].value_counts().index)\n",
    "plt.show()\n",
    "No, Yes = df.outcome.value_counts()\n",
    "print('pH 6.0 - 6.5: ', Yes,  '(',round(Yes/len(df.outcome)*100,2), '%)')\n",
    "print('Other pH: ', No,  '(',round(No/len(df.outcome)*100,2), '%)')"
   ]
  },
  {
   "cell_type": "code",
   "execution_count": 48,
   "metadata": {},
   "outputs": [
    {
     "data": {
      "text/plain": [
       "<matplotlib.axes._subplots.AxesSubplot at 0x1f3cacffb48>"
      ]
     },
     "execution_count": 48,
     "metadata": {},
     "output_type": "execute_result"
    },
    {
     "data": {
      "image/png": "[encoded data removed]",
      "text/plain": [
       "<Figure size 432x288 with 1 Axes>"
      ]
     },
     "metadata": {
      "needs_background": "light"
     },
     "output_type": "display_data"
    }
   ],
   "source": [
    "sns.distplot(df['PH_avg'])"
   ]
  },
  {
   "cell_type": "markdown",
   "metadata": {},
   "source": [
    "# 1. Logistic regression with imbalanced classes"
   ]
  },
  {
   "cell_type": "markdown",
   "metadata": {},
   "source": [
    "### 1.1 All variables, class weight = None"
   ]
  },
  {
   "cell_type": "code",
   "execution_count": 49,
   "metadata": {},
   "outputs": [
    {
     "data": {
      "text/plain": [
       "LogisticRegression(C=1.0, class_weight=None, dual=False, fit_intercept=True,\n",
       "                   intercept_scaling=1, l1_ratio=None, max_iter=100,\n",
       "                   multi_class='auto', n_jobs=None, penalty='l2',\n",
       "                   random_state=None, solver='lbfgs', tol=0.0001, verbose=0,\n",
       "                   warm_start=False)"
      ]
     },
     "execution_count": 49,
     "metadata": {},
     "output_type": "execute_result"
    }
   ],
   "source": [
    "X = df.drop(['outcome', 'PH_avg'], axis = 1)\n",
    "y = df['outcome']\n",
    "\n",
    "X_train, X_test, y_train, y_test = train_test_split(X, y, test_size = 0.2, random_state = 42)\n",
    "\n",
    "logistic1 = LogisticRegression()\n",
    "logistic1.fit(X_train, y_train)"
   ]
  },
  {
   "cell_type": "code",
   "execution_count": 50,
   "metadata": {},
   "outputs": [
    {
     "data": {
      "image/png": "[encoded data removed]",
      "text/plain": [
       "<Figure size 432x288 with 2 Axes>"
      ]
     },
     "metadata": {
      "needs_background": "light"
     },
     "output_type": "display_data"
    }
   ],
   "source": [
    "predictions = logistic1.predict(X_test)\n",
    "from sklearn import metrics\n",
    "conf_matrix = metrics.confusion_matrix(y_test, predictions)\n",
    "sns.heatmap(conf_matrix, annot = True, cmap = 'YlGnBu')\n",
    "plt.title(\"Confusion matrix\")\n",
    "plt.ylabel(\"Actual label\")\n",
    "plt.xlabel(\"Predicted label\")\n",
    "plt.tight_layout()"
   ]
  },
  {
   "cell_type": "code",
   "execution_count": 51,
   "metadata": {},
   "outputs": [
    {
     "name": "stdout",
     "output_type": "stream",
     "text": [
      "              precision    recall  f1-score   support\n",
      "\n",
      "           0       0.65      0.86      0.74        28\n",
      "           1       0.33      0.13      0.19        15\n",
      "\n",
      "    accuracy                           0.60        43\n",
      "   macro avg       0.49      0.50      0.46        43\n",
      "weighted avg       0.54      0.60      0.55        43\n",
      "\n",
      "Area under the curve:\t 0.4952380952380953\n"
     ]
    }
   ],
   "source": [
    "predictions = logistic1.predict(X_test)\n",
    "print(classification_report(y_test, predictions))\n",
    "print('Area under the curve:\\t', metrics.roc_auc_score(y_test, predictions))"
   ]
  },
  {
   "cell_type": "markdown",
   "metadata": {},
   "source": [
    "### 1.2 All variables, class weight = {0:1,1:2}"
   ]
  },
  {
   "cell_type": "code",
   "execution_count": 52,
   "metadata": {},
   "outputs": [
    {
     "data": {
      "text/plain": [
       "LogisticRegression(C=1.0, class_weight={0: 1, 1: 2}, dual=False,\n",
       "                   fit_intercept=True, intercept_scaling=1, l1_ratio=None,\n",
       "                   max_iter=100, multi_class='auto', n_jobs=None, penalty='l2',\n",
       "                   random_state=None, solver='lbfgs', tol=0.0001, verbose=0,\n",
       "                   warm_start=False)"
      ]
     },
     "execution_count": 52,
     "metadata": {},
     "output_type": "execute_result"
    }
   ],
   "source": [
    "X = df.drop(['outcome', 'PH_avg'], axis = 1)\n",
    "y = df['outcome']\n",
    "\n",
    "X_train, X_test, y_train, y_test = train_test_split(X, y, test_size = 0.2, random_state = 42)\n",
    "\n",
    "logistic1 = LogisticRegression(class_weight = {0:1,1:2})\n",
    "logistic1.fit(X_train, y_train)"
   ]
  },
  {
   "cell_type": "code",
   "execution_count": 53,
   "metadata": {},
   "outputs": [
    {
     "data": {
      "image/png": "[encoded data removed]",
      "text/plain": [
       "<Figure size 432x288 with 2 Axes>"
      ]
     },
     "metadata": {
      "needs_background": "light"
     },
     "output_type": "display_data"
    }
   ],
   "source": [
    "predictions = logistic1.predict(X_test)\n",
    "from sklearn import metrics\n",
    "conf_matrix = metrics.confusion_matrix(y_test, predictions)\n",
    "sns.heatmap(conf_matrix, annot = True, cmap = 'YlGnBu')\n",
    "plt.title(\"Confusion matrix\")\n",
    "plt.ylabel(\"Actual label\")\n",
    "plt.xlabel(\"Predicted label\")\n",
    "plt.tight_layout()"
   ]
  },
  {
   "cell_type": "code",
   "execution_count": 54,
   "metadata": {},
   "outputs": [
    {
     "name": "stdout",
     "output_type": "stream",
     "text": [
      "              precision    recall  f1-score   support\n",
      "\n",
      "           0       0.69      0.71      0.70        28\n",
      "           1       0.43      0.40      0.41        15\n",
      "\n",
      "    accuracy                           0.60        43\n",
      "   macro avg       0.56      0.56      0.56        43\n",
      "weighted avg       0.60      0.60      0.60        43\n",
      "\n",
      "Area under the curve:\t 0.5571428571428572\n"
     ]
    }
   ],
   "source": [
    "predictions = logistic1.predict(X_test)\n",
    "print(classification_report(y_test, predictions))\n",
    "print('Area under the curve:\\t', metrics.roc_auc_score(y_test, predictions))"
   ]
  },
  {
   "cell_type": "markdown",
   "metadata": {},
   "source": [
    "### 1.3 Selected variables, class weight = None"
   ]
  },
  {
   "cell_type": "code",
   "execution_count": 55,
   "metadata": {},
   "outputs": [],
   "source": [
    "from mlxtend.feature_selection import SequentialFeatureSelector as SFS\n",
    "from sklearn.linear_model import LinearRegression\n",
    "\n",
    "# Sequential Forward Selection(sfs)\n",
    "sfs = SFS(LogisticRegression(),\n",
    "           k_features=25,\n",
    "           forward=True,\n",
    "           floating=False,\n",
    "           scoring = 'f1',\n",
    "           cv = 0)\n",
    "sfs.fit(X, y)\n",
    "sfs.k_feature_names_\n",
    "f1_features = list(sfs.k_feature_names_)"
   ]
  },
  {
   "cell_type": "code",
   "execution_count": 56,
   "metadata": {},
   "outputs": [
    {
     "data": {
      "text/plain": [
       "LogisticRegression(C=1.0, class_weight=None, dual=False, fit_intercept=True,\n",
       "                   intercept_scaling=1, l1_ratio=None, max_iter=100,\n",
       "                   multi_class='auto', n_jobs=None, penalty='l2',\n",
       "                   random_state=None, solver='lbfgs', tol=0.0001, verbose=0,\n",
       "                   warm_start=False)"
      ]
     },
     "execution_count": 56,
     "metadata": {},
     "output_type": "execute_result"
    }
   ],
   "source": [
    "X = df.drop(['outcome', 'PH_avg'], axis = 1)[f1_features]\n",
    "y = df['outcome']\n",
    "\n",
    "X_train, X_test, y_train, y_test = train_test_split(X, y, test_size = 0.2, random_state = 42)\n",
    "\n",
    "logistic1 = LogisticRegression()\n",
    "logistic1.fit(X_train, y_train)"
   ]
  },
  {
   "cell_type": "code",
   "execution_count": 57,
   "metadata": {},
   "outputs": [
    {
     "data": {
      "image/png": "[encoded data removed]",
      "text/plain": [
       "<Figure size 432x288 with 2 Axes>"
      ]
     },
     "metadata": {
      "needs_background": "light"
     },
     "output_type": "display_data"
    }
   ],
   "source": [
    "predictions = logistic1.predict(X_test)\n",
    "from sklearn import metrics\n",
    "conf_matrix = metrics.confusion_matrix(y_test, predictions)\n",
    "sns.heatmap(conf_matrix, annot = True, cmap = 'YlGnBu')\n",
    "plt.title(\"Confusion matrix\")\n",
    "plt.ylabel(\"Actual label\")\n",
    "plt.xlabel(\"Predicted label\")\n",
    "plt.tight_layout()"
   ]
  },
  {
   "cell_type": "code",
   "execution_count": 58,
   "metadata": {},
   "outputs": [
    {
     "name": "stdout",
     "output_type": "stream",
     "text": [
      "              precision    recall  f1-score   support\n",
      "\n",
      "           0       0.68      0.96      0.79        28\n",
      "           1       0.67      0.13      0.22        15\n",
      "\n",
      "    accuracy                           0.67        43\n",
      "   macro avg       0.67      0.55      0.51        43\n",
      "weighted avg       0.67      0.67      0.59        43\n",
      "\n",
      "Area under the curve:\t 0.5488095238095237\n"
     ]
    }
   ],
   "source": [
    "predictions = logistic1.predict(X_test)\n",
    "print(classification_report(y_test, predictions))\n",
    "print('Area under the curve:\\t', metrics.roc_auc_score(y_test, predictions))"
   ]
  },
  {
   "cell_type": "markdown",
   "metadata": {},
   "source": [
    "### 1.4 Selected variables, class weight = {0:1,1:2}"
   ]
  },
  {
   "cell_type": "code",
   "execution_count": 59,
   "metadata": {},
   "outputs": [
    {
     "data": {
      "text/plain": [
       "LogisticRegression(C=1.0, class_weight={0: 1, 1: 2}, dual=False,\n",
       "                   fit_intercept=True, intercept_scaling=1, l1_ratio=None,\n",
       "                   max_iter=100, multi_class='auto', n_jobs=None, penalty='l2',\n",
       "                   random_state=None, solver='lbfgs', tol=0.0001, verbose=0,\n",
       "                   warm_start=False)"
      ]
     },
     "execution_count": 59,
     "metadata": {},
     "output_type": "execute_result"
    }
   ],
   "source": [
    "X = df.drop(['outcome', 'PH_avg'], axis = 1)[f1_features]\n",
    "y = df['outcome']\n",
    "\n",
    "X_train, X_test, y_train, y_test = train_test_split(X, y, test_size = 0.2, random_state = 42)\n",
    "\n",
    "logistic1 = LogisticRegression(class_weight = {0:1,1:2})\n",
    "logistic1.fit(X_train, y_train)"
   ]
  },
  {
   "cell_type": "code",
   "execution_count": 60,
   "metadata": {},
   "outputs": [
    {
     "data": {
      "image/png": "[encoded data removed]",
      "text/plain": [
       "<Figure size 432x288 with 2 Axes>"
      ]
     },
     "metadata": {
      "needs_background": "light"
     },
     "output_type": "display_data"
    }
   ],
   "source": [
    "predictions = logistic1.predict(X_test)\n",
    "from sklearn import metrics\n",
    "conf_matrix = metrics.confusion_matrix(y_test, predictions)\n",
    "sns.heatmap(conf_matrix, annot = True, cmap = 'YlGnBu')\n",
    "plt.title(\"Confusion matrix\")\n",
    "plt.ylabel(\"Actual label\")\n",
    "plt.xlabel(\"Predicted label\")\n",
    "plt.tight_layout()"
   ]
  },
  {
   "cell_type": "code",
   "execution_count": 61,
   "metadata": {},
   "outputs": [
    {
     "name": "stdout",
     "output_type": "stream",
     "text": [
      "              precision    recall  f1-score   support\n",
      "\n",
      "           0       0.64      0.50      0.56        28\n",
      "           1       0.33      0.47      0.39        15\n",
      "\n",
      "    accuracy                           0.49        43\n",
      "   macro avg       0.48      0.48      0.47        43\n",
      "weighted avg       0.53      0.49      0.50        43\n",
      "\n",
      "Area under the curve:\t 0.4833333333333334\n"
     ]
    }
   ],
   "source": [
    "predictions = logistic1.predict(X_test)\n",
    "print(classification_report(y_test, predictions))\n",
    "print('Area under the curve:\\t', metrics.roc_auc_score(y_test, predictions))"
   ]
  },
  {
   "cell_type": "markdown",
   "metadata": {},
   "source": [
    "# 2. Logistic regression with balanced classes"
   ]
  },
  {
   "cell_type": "code",
   "execution_count": 62,
   "metadata": {},
   "outputs": [
    {
     "data": {
      "text/plain": [
       "1    74\n",
       "0    74\n",
       "Name: outcome, dtype: int64"
      ]
     },
     "execution_count": 62,
     "metadata": {},
     "output_type": "execute_result"
    }
   ],
   "source": [
    "bad = df[df['outcome'] == 0].sample(n = len(df[df['outcome'] == 1]))\n",
    "df2 = df[df['outcome'] == 1]\n",
    "df2 = df2.append(bad)\n",
    "df2['outcome'].value_counts()"
   ]
  },
  {
   "cell_type": "markdown",
   "metadata": {},
   "source": [
    "### 2.1 All variables, class weight = None"
   ]
  },
  {
   "cell_type": "code",
   "execution_count": 63,
   "metadata": {},
   "outputs": [
    {
     "data": {
      "text/plain": [
       "LogisticRegression(C=1.0, class_weight=None, dual=False, fit_intercept=True,\n",
       "                   intercept_scaling=1, l1_ratio=None, max_iter=100,\n",
       "                   multi_class='auto', n_jobs=None, penalty='l2',\n",
       "                   random_state=None, solver='lbfgs', tol=0.0001, verbose=0,\n",
       "                   warm_start=False)"
      ]
     },
     "execution_count": 63,
     "metadata": {},
     "output_type": "execute_result"
    }
   ],
   "source": [
    "X = df2.drop(['outcome', 'PH_avg'], axis = 1)\n",
    "y = df2['outcome']\n",
    "\n",
    "X_train, X_test, y_train, y_test = train_test_split(X, y, test_size = 0.2, random_state = 42)\n",
    "\n",
    "logistic1 = LogisticRegression()\n",
    "logistic1.fit(X_train, y_train)"
   ]
  },
  {
   "cell_type": "code",
   "execution_count": 64,
   "metadata": {},
   "outputs": [
    {
     "data": {
      "image/png": "[encoded data removed]",
      "text/plain": [
       "<Figure size 432x288 with 2 Axes>"
      ]
     },
     "metadata": {
      "needs_background": "light"
     },
     "output_type": "display_data"
    }
   ],
   "source": [
    "predictions = logistic1.predict(X_test)\n",
    "from sklearn import metrics\n",
    "conf_matrix = metrics.confusion_matrix(y_test, predictions)\n",
    "sns.heatmap(conf_matrix, annot = True, cmap = 'YlGnBu')\n",
    "plt.title(\"Confusion matrix\")\n",
    "plt.ylabel(\"Actual label\")\n",
    "plt.xlabel(\"Predicted label\")\n",
    "plt.tight_layout()"
   ]
  },
  {
   "cell_type": "code",
   "execution_count": 65,
   "metadata": {},
   "outputs": [
    {
     "name": "stdout",
     "output_type": "stream",
     "text": [
      "              precision    recall  f1-score   support\n",
      "\n",
      "           0       0.50      0.62      0.55        13\n",
      "           1       0.64      0.53      0.58        17\n",
      "\n",
      "    accuracy                           0.57        30\n",
      "   macro avg       0.57      0.57      0.57        30\n",
      "weighted avg       0.58      0.57      0.57        30\n",
      "\n",
      "Area under the curve:\t 0.5723981900452488\n"
     ]
    }
   ],
   "source": [
    "predictions = logistic1.predict(X_test)\n",
    "print(classification_report(y_test, predictions))\n",
    "print('Area under the curve:\\t', metrics.roc_auc_score(y_test, predictions))"
   ]
  },
  {
   "cell_type": "markdown",
   "metadata": {},
   "source": [
    "### 2.2 All variables, class weight = {0:1,1:2}"
   ]
  },
  {
   "cell_type": "code",
   "execution_count": 66,
   "metadata": {},
   "outputs": [
    {
     "data": {
      "text/plain": [
       "LogisticRegression(C=1.0, class_weight={0: 1, 1: 2}, dual=False,\n",
       "                   fit_intercept=True, intercept_scaling=1, l1_ratio=None,\n",
       "                   max_iter=100, multi_class='auto', n_jobs=None, penalty='l2',\n",
       "                   random_state=None, solver='lbfgs', tol=0.0001, verbose=0,\n",
       "                   warm_start=False)"
      ]
     },
     "execution_count": 66,
     "metadata": {},
     "output_type": "execute_result"
    }
   ],
   "source": [
    "X = df2.drop(['outcome', 'PH_avg'], axis = 1)\n",
    "y = df2['outcome']\n",
    "\n",
    "X_train, X_test, y_train, y_test = train_test_split(X, y, test_size = 0.2, random_state = 42)\n",
    "\n",
    "logistic1 = LogisticRegression(class_weight = {0:1,1:2})\n",
    "logistic1.fit(X_train, y_train)"
   ]
  },
  {
   "cell_type": "code",
   "execution_count": 67,
   "metadata": {},
   "outputs": [
    {
     "data": {
      "image/png": "[encoded data removed]",
      "text/plain": [
       "<Figure size 432x288 with 2 Axes>"
      ]
     },
     "metadata": {
      "needs_background": "light"
     },
     "output_type": "display_data"
    }
   ],
   "source": [
    "predictions = logistic1.predict(X_test)\n",
    "from sklearn import metrics\n",
    "conf_matrix = metrics.confusion_matrix(y_test, predictions)\n",
    "sns.heatmap(conf_matrix, annot = True, cmap = 'YlGnBu')\n",
    "plt.title(\"Confusion matrix\")\n",
    "plt.ylabel(\"Actual label\")\n",
    "plt.xlabel(\"Predicted label\")\n",
    "plt.tight_layout()"
   ]
  },
  {
   "cell_type": "code",
   "execution_count": 68,
   "metadata": {},
   "outputs": [
    {
     "name": "stdout",
     "output_type": "stream",
     "text": [
      "              precision    recall  f1-score   support\n",
      "\n",
      "           0       0.50      0.46      0.48        13\n",
      "           1       0.61      0.65      0.63        17\n",
      "\n",
      "    accuracy                           0.57        30\n",
      "   macro avg       0.56      0.55      0.55        30\n",
      "weighted avg       0.56      0.57      0.56        30\n",
      "\n",
      "Area under the curve:\t 0.5542986425339367\n"
     ]
    }
   ],
   "source": [
    "predictions = logistic1.predict(X_test)\n",
    "print(classification_report(y_test, predictions))\n",
    "print('Area under the curve:\\t', metrics.roc_auc_score(y_test, predictions))"
   ]
  },
  {
   "cell_type": "markdown",
   "metadata": {},
   "source": [
    "### 2.3 Selected variables, class weight = None"
   ]
  },
  {
   "cell_type": "code",
   "execution_count": 69,
   "metadata": {},
   "outputs": [
    {
     "data": {
      "text/plain": [
       "LogisticRegression(C=1.0, class_weight=None, dual=False, fit_intercept=True,\n",
       "                   intercept_scaling=1, l1_ratio=None, max_iter=100,\n",
       "                   multi_class='auto', n_jobs=None, penalty='l2',\n",
       "                   random_state=None, solver='lbfgs', tol=0.0001, verbose=0,\n",
       "                   warm_start=False)"
      ]
     },
     "execution_count": 69,
     "metadata": {},
     "output_type": "execute_result"
    }
   ],
   "source": [
    "X = df2.drop(['outcome', 'PH_avg'], axis = 1)[f1_features]\n",
    "y = df2['outcome']\n",
    "\n",
    "X_train, X_test, y_train, y_test = train_test_split(X, y, test_size = 0.2, random_state = 42)\n",
    "\n",
    "logistic1 = LogisticRegression()\n",
    "logistic1.fit(X_train, y_train)"
   ]
  },
  {
   "cell_type": "code",
   "execution_count": 70,
   "metadata": {},
   "outputs": [
    {
     "data": {
      "image/png": "[encoded data removed]",
      "text/plain": [
       "<Figure size 432x288 with 2 Axes>"
      ]
     },
     "metadata": {
      "needs_background": "light"
     },
     "output_type": "display_data"
    }
   ],
   "source": [
    "predictions = logistic1.predict(X_test)\n",
    "from sklearn import metrics\n",
    "conf_matrix = metrics.confusion_matrix(y_test, predictions)\n",
    "sns.heatmap(conf_matrix, annot = True, cmap = 'YlGnBu')\n",
    "plt.title(\"Confusion matrix\")\n",
    "plt.ylabel(\"Actual label\")\n",
    "plt.xlabel(\"Predicted label\")\n",
    "plt.tight_layout()"
   ]
  },
  {
   "cell_type": "code",
   "execution_count": 71,
   "metadata": {},
   "outputs": [
    {
     "name": "stdout",
     "output_type": "stream",
     "text": [
      "              precision    recall  f1-score   support\n",
      "\n",
      "           0       0.62      0.62      0.62        13\n",
      "           1       0.71      0.71      0.71        17\n",
      "\n",
      "    accuracy                           0.67        30\n",
      "   macro avg       0.66      0.66      0.66        30\n",
      "weighted avg       0.67      0.67      0.67        30\n",
      "\n",
      "Area under the curve:\t 0.660633484162896\n",
      "Selected variables:\t ['Ailment', 'Fruit tea', 'Water', 'Latte', 'Mineral water (Borjomi)', 'Tequila', 'Red wine', 'Strong alcohol', 'Beer', 'Morse', 'Milk', 'Cheese Pizza', 'Cheesecakes', 'Meat', 'Sauce', 'Fish', 'Sushi', 'Potato dumplings', 'Zucchini Fritters', 'Egg Pie', 'Potato pie', 'Eggplant caviar', 'Pear', 'Grapes', 'Cake']\n"
     ]
    }
   ],
   "source": [
    "predictions = logistic1.predict(X_test)\n",
    "print(classification_report(y_test, predictions))\n",
    "print('Area under the curve:\\t', metrics.roc_auc_score(y_test, predictions))\n",
    "print('Selected variables:\\t', f1_features)"
   ]
  },
  {
   "cell_type": "markdown",
   "metadata": {},
   "source": [
    "### 2.4 Selected variables, class weight = {0:1,1:2}"
   ]
  },
  {
   "cell_type": "code",
   "execution_count": 72,
   "metadata": {},
   "outputs": [
    {
     "data": {
      "text/plain": [
       "LogisticRegression(C=1.0, class_weight={0: 1, 1: 2}, dual=False,\n",
       "                   fit_intercept=True, intercept_scaling=1, l1_ratio=None,\n",
       "                   max_iter=100, multi_class='auto', n_jobs=None, penalty='l2',\n",
       "                   random_state=None, solver='lbfgs', tol=0.0001, verbose=0,\n",
       "                   warm_start=False)"
      ]
     },
     "execution_count": 72,
     "metadata": {},
     "output_type": "execute_result"
    }
   ],
   "source": [
    "X = df2.drop(['outcome', 'PH_avg'], axis = 1)[f1_features]\n",
    "y = df2['outcome']\n",
    "\n",
    "X_train, X_test, y_train, y_test = train_test_split(X, y, test_size = 0.2, random_state = 42)\n",
    "\n",
    "logistic1 = LogisticRegression(class_weight = {0:1,1:2})\n",
    "logistic1.fit(X_train, y_train)"
   ]
  },
  {
   "cell_type": "code",
   "execution_count": 73,
   "metadata": {},
   "outputs": [
    {
     "data": {
      "image/png": "[encoded data removed]",
      "text/plain": [
       "<Figure size 432x288 with 2 Axes>"
      ]
     },
     "metadata": {
      "needs_background": "light"
     },
     "output_type": "display_data"
    }
   ],
   "source": [
    "predictions = logistic1.predict(X_test)\n",
    "from sklearn import metrics\n",
    "conf_matrix = metrics.confusion_matrix(y_test, predictions)\n",
    "sns.heatmap(conf_matrix, annot = True, cmap = 'YlGnBu')\n",
    "plt.title(\"Confusion matrix\")\n",
    "plt.ylabel(\"Actual label\")\n",
    "plt.xlabel(\"Predicted label\")\n",
    "plt.tight_layout()"
   ]
  },
  {
   "cell_type": "code",
   "execution_count": 74,
   "metadata": {},
   "outputs": [
    {
     "name": "stdout",
     "output_type": "stream",
     "text": [
      "              precision    recall  f1-score   support\n",
      "\n",
      "           0       0.80      0.31      0.44        13\n",
      "           1       0.64      0.94      0.76        17\n",
      "\n",
      "    accuracy                           0.67        30\n",
      "   macro avg       0.72      0.62      0.60        30\n",
      "weighted avg       0.71      0.67      0.62        30\n",
      "\n",
      "Area under the curve:\t 0.6244343891402715\n"
     ]
    }
   ],
   "source": [
    "predictions = logistic1.predict(X_test)\n",
    "print(classification_report(y_test, predictions))\n",
    "print('Area under the curve:\\t', metrics.roc_auc_score(y_test, predictions))"
   ]
  },
  {
   "cell_type": "markdown",
   "metadata": {},
   "source": [
    "# Conclusions\n",
    "\n",
    "I have tried balancing the classes and selecting the features so I can see that best overall model is:\n",
    "\n",
    "- 2.3 - Selected variables, class weight = None (balanced classes). It has the best AUC\n",
    "\n",
    "- 2.4 Model is also very good, but it sacrifises a lot of outcome '0' recall, because of the class weight feature. I cannot accept that. Also it has lesser AUC\n",
    "\n",
    "I accept the f1_features list, selected by SequentialFeatureSelector, because the list contains variables from different categories - liquids, proteins, sweets, carbohydrates, fat.\n",
    "\n",
    "I can see that balancing the classes worked better than having imbalanced classes and using class_weight. This is because dataset is small and has a lot of independant variables. Having one class bigger with a lot of independant variables, results in greater variance in one group than the other. \n",
    "\n"
   ]
  },
  {
   "cell_type": "code",
   "execution_count": null,
   "metadata": {},
   "outputs": [],
   "source": []
  }
 ],
 "metadata": {
  "kernelspec": {
   "display_name": "Python 3",
   "language": "python",
   "name": "python3"
  },
  "language_info": {
   "codemirror_mode": {
    "name": "ipython",
    "version": 3
   },
   "file_extension": ".py",
   "mimetype": "text/x-python",
   "name": "python",
   "nbconvert_exporter": "python",
   "pygments_lexer": "ipython3",
   "version": "3.7.6"
  }
 },
 "nbformat": 4,
 "nbformat_minor": 4
}
